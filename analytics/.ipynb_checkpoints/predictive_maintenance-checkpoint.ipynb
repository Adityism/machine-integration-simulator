{
 "cells": [
  {
   "cell_type": "markdown",
   "metadata": {},
   "source": [
    "# Predictive Maintenance Module\n",
    "\n",
    "This notebook demonstrates a basic predictive maintenance module. It connects to MongoDB to retrieve simulated machine data from our smart factory pipeline, performs anomaly detection, and identifies potential failure patterns to generate alerts.\n",
    "\n",
    "---"
   ]
  },
  {
   "cell_type": "markdown",
   "metadata": {},
   "source": [
    "## 1. Setup and Data Retrieval\n",
    "\n",
    "First, we'll import the necessary libraries and establish a connection to the MongoDB database to fetch the most recent PLC data."
   ]
  },
  {
   "cell_type": "code",
   "execution_count": null,
   "metadata": {},
   "outputs": [],
   "source": [
    "import pandas as pd\n",
    "import numpy as np\n",
    "from pymongo import MongoClient\n",
    "from sklearn.ensemble import IsolationForest\n",
    "import matplotlib.pyplot as plt\n",
    "import seaborn as sns\n",
    "\n",
    "# --- MongoDB Connection ---\n",
    "# Connect to your local MongoDB instance. \n",
    "# Adjust the URI if your database is hosted elsewhere or requires different credentials.\n",
    "client = MongoClient(\"mongodb://localhost:27017/\")\n",
    "db = client.smart_factory\n",
    "plc_collection = db.plc_data\n",
    "\n",
    "def fetch_data_from_mongo(collection, limit=2000):\n",
    "    \"\"\"Fetches and prepares data from a MongoDB collection.\"\"\"\n",
    "    # Fetch the latest data, sorted by the document's creation time\n",
    "    cursor = collection.find().sort([('_id', -1)]).limit(limit)\n",
    "    df = pd.DataFrame(list(cursor))\n",
    "    \n",
    "    if df.empty:\n",
    "        print(\"No data found in the collection.\")\n",
    "        return pd.DataFrame()\n",
    "\n",
    "    # Convert MongoDB's ObjectId to a timestamp for time-series analysis\n",
    "    df['timestamp'] = df['_id'].apply(lambda x: x.generation_time)\n",
    "    \n",
    "    # Normalize the nested 'analog_inputs' dictionary into separate columns\n",
    "    if 'analog_inputs' in df.columns:\n",
    "        normalized_analog = pd.json_normalize(df['analog_inputs'])\n",
    "        df = df.join(normalized_analog)\n",
    "\n",
    "    return df\n",
    "\n",
    "# Fetch and display the head of the PLC data\n",
    "plc_df = fetch_data_from_mongo(plc_collection)\n",
    "\n",
    "if not plc_df.empty:\n",
    "    print(\"Fetched and Processed PLC Data:\")\n",
    "    display(plc_df.head())"
   ]
  },
  {
   "cell_type": "markdown",
   "metadata": {},
   "source": [
    "## 2. Anomaly Detection with Isolation Forest\n",
    "\n",
    "We'll use the **Isolation Forest** algorithm to detect anomalies. This is an unsupervised learning algorithm that is effective for identifying outliers in data. We will focus on the `pressure` and `flow_rate` metrics."
   ]
  },
  {
   "cell_type": "code",
   "execution_count": null,
   "metadata": {},
   "outputs": [],
   "source": [
    "if not plc_df.empty and 'pressure' in plc_df.columns and 'flow_rate' in plc_df.columns:\n",
    "    features = ['pressure', 'flow_rate']\n",
    "    X = plc_df[features].copy()\n",
    "\n",
    "    # Initialize and train the model. Contamination is the expected proportion of outliers.\n",
    "    model = IsolationForest(contamination=0.05, random_state=42)\n",
    "    plc_df['anomaly'] = model.fit_predict(X)\n",
    "    plc_df['anomaly_score'] = model.decision_function(X)\n",
    "\n",
    "    # Separate the anomalies for review (-1 indicates an anomaly)\n",
    "    anomalies = plc_df[plc_df['anomaly'] == -1]\n",
    "    print(f\"\\nDetected {len(anomalies)} anomalies out of {len(plc_df)} data points.\")\n",
    "    if not anomalies.empty:\n",
    "        print(\"Detected Anomalies:\")\n",
    "        display(anomalies[['timestamp', 'pressure', 'flow_rate', 'anomaly_score']])\n",
    "\n",
    "    # --- Visualization of Anomalies ---\n",
    "    sns.set_style(\"whitegrid\")\n",
    "    \n",
    "    plt.figure(figsize=(15, 6))\n",
    "    sns.scatterplot(x='timestamp', y='pressure', hue='anomaly', data=plc_df, \n",
    "                    palette={1: 'blue', -1: 'red'}, legend=False)\n",
    "    plt.title('Pressure Anomaly Detection', fontsize=16)\n",
    "    plt.ylabel('Pressure (PSI)')\n",
    "    plt.xlabel('Timestamp')\n",
    "    plt.show()\n",
    "\n",
    "    plt.figure(figsize=(15, 6))\n",
    "    sns.scatterplot(x='timestamp', y='flow_rate', hue='anomaly', data=plc_df, \n",
    "                    palette={1: 'blue', -1: 'red'}, legend=False)\n",
    "    plt.title('Flow Rate Anomaly Detection', fontsize=16)\n",
    "    plt.ylabel('Flow Rate (L/min)')\n",
    "    plt.xlabel('Timestamp')\n",
    "    plt.show()\n",
    "else:\n",
    "    print(\"\\nSkipping anomaly detection: PLC data is empty or missing required feature columns.\")"
   ]
  },
  {
   "cell_type": "markdown",
   "metadata": {},
   "source": [
    "## 3. Predictive Maintenance Alerts\n",
    "\n",
    "This final section simulates a basic predictive maintenance system. It scans the data for anomalies detected by our model, rule-based threshold breaches, and any reported error codes, then aggregates them into a list of actionable alerts."
   ]
  },
  {
   "cell_type": "code",
   "execution_count": null,
   "metadata": {},
   "outputs": [],
   "source": [
    "def generate_maintenance_alerts(df):\n",
    "    \"\"\"Generates alerts based on anomalies, thresholds, and error codes.\"\"\"\n",
    "    alerts = []\n",
    "    # Ensure required columns exist\n",
    "    required_cols = ['pressure', 'flow_rate', 'error_codes', 'anomaly', 'timestamp', 'anomaly_score']\n",
    "    if not all(col in df.columns for col in required_cols):\n",
    "        print(\"Cannot generate alerts. DataFrame is missing one or more required columns.\")\n",
    "        return []\n",
    "    \n",
    "    for _, row in df.iterrows():\n",
    "        # Rule-based threshold alerts\n",
    "        if row['pressure'] > 90: \n",
    "            alerts.append(f\"CRITICAL: High Pressure Alert: {row['pressure']:.2f} PSI at {row['timestamp'].strftime('%Y-%m-%d %H:%M:%S')}\")\n",
    "        if row['flow_rate'] < 5: \n",
    "            alerts.append(f\"WARNING: Low Flow Rate Alert: {row['flow_rate']:.2f} L/min at {row['timestamp'].strftime('%Y-%m-%d %H:%M:%S')}\")\n",
    "        \n",
    "        # Error code alerts (assuming '0' is nominal)\n",
    "        if row['error_codes'] != 'System Operational' and row['error_codes'] != 0:\n",
    "            alerts.append(f\"FAULT: PLC Error Code '{row['error_codes']}' detected at {row['timestamp'].strftime('%Y-%m-%d %H:%M:%S')}\")\n",
    "        \n",
    "        # Anomaly-based alerts\n",
    "        if row['anomaly'] == -1:\n",
    "            alerts.append(f\"ANOMALY: Unusual sensor behavior detected at {row['timestamp'].strftime('%Y-%m-%d %H:%M:%S')} (Score: {row['anomaly_score']:.2f})\")\n",
    "    \n",
    "    return alerts\n",
    "\n",
    "if not plc_df.empty:\n",
    "    maintenance_alerts = generate_maintenance_alerts(plc_df)\n",
    "    print(\"\\n--- Generated Maintenance Alerts ---\")\n",
    "    if maintenance_alerts:\n",
    "        for alert in maintenance_alerts:\n",
    "            print(alert)\n",
    "    else:\n",
    "        print(\"No maintenance alerts generated.\")\n",
    "else:\n",
    "    print(\"\\nNo PLC data available to generate alerts from.\")\n"
   ]
  }
 ],
 "metadata": {
  "kernelspec": {
   "display_name": "Python 3",
   "language": "python",
   "name": "python3"
  },
  "language_info": {
   "codemirror_mode": {
    "name": "ipython",
    "version": 3
   },
   "file_extension": ".py",
   "mimetype": "text/x-python",
   "name": "python",
   "nbconvert_exporter": "python",
   "pygments_lexer": "ipython3",
   "version": "3.9.7"
  }
 },
 "nbformat": 4,
 "nbformat_minor": 4
}